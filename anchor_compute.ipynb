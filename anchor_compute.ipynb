{
 "cells": [
  {
   "cell_type": "code",
   "execution_count": 6,
   "metadata": {},
   "outputs": [
    {
     "name": "stdout",
     "output_type": "stream",
     "text": [
      "[tensor([[ -42.0000,  -29.0000,   74.0000,   61.0000],\n",
      "        [ -62.0000,  -83.0000,   94.0000,  115.0000],\n",
      "        [-170.5000, -147.0000,  202.5000,  179.0000],\n",
      "        [-120.5000,  -97.0000,  152.5000,  129.0000],\n",
      "        [ -70.5000,  -47.0000,  102.5000,   79.0000]])]\n"
     ]
    },
    {
     "ename": "",
     "evalue": "",
     "output_type": "error",
     "traceback": [
      "\u001b[1;31mThe Kernel crashed while executing code in the the current cell or a previous cell. Please review the code in the cell(s) to identify a possible cause of the failure. Click <a href='https://aka.ms/vscodeJupyterKernelCrash'>here</a> for more info. View Jupyter <a href='command:jupyter.viewOutput'>log</a> for further details."
     ]
    }
   ],
   "source": [
    "from mmdet.models.task_modules.prior_generators.anchor_generator import YOLOAnchorGenerator\n",
    "\n",
    "strides = [32]\n",
    "base_sizes = [[(116, 90), (156, 198), (373, 326),(273, 226),(173, 126)]]\n",
    "\n",
    "anchor_generator = YOLOAnchorGenerator(strides, base_sizes)\n",
    "anchors = anchor_generator.base_anchors\n",
    "\n",
    "print(anchors)\n"
   ]
  }
 ],
 "metadata": {
  "kernelspec": {
   "display_name": "pt20",
   "language": "python",
   "name": "python3"
  },
  "language_info": {
   "codemirror_mode": {
    "name": "ipython",
    "version": 3
   },
   "file_extension": ".py",
   "mimetype": "text/x-python",
   "name": "python",
   "nbconvert_exporter": "python",
   "pygments_lexer": "ipython3",
   "version": "3.10.11"
  },
  "orig_nbformat": 4
 },
 "nbformat": 4,
 "nbformat_minor": 2
}
